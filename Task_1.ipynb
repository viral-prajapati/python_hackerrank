{
  "cells": [
    {
      "cell_type": "code",
      "execution_count": null,
      "id": "b2c2cd43",
      "metadata": {
        "id": "b2c2cd43"
      },
      "outputs": [],
      "source": [
        "# Task - 1 "
      ]
    },
    {
      "cell_type": "code",
      "execution_count": null,
      "id": "9efaef5b",
      "metadata": {
        "id": "9efaef5b",
        "outputId": "89038288-2bc8-47e8-a231-a138d03b5391"
      },
      "outputs": [
        {
          "name": "stdout",
          "output_type": "stream",
          "text": [
            "Hello, World!\n"
          ]
        }
      ],
      "source": [
        "print(\"Hello, World!\")"
      ]
    },
    {
      "cell_type": "code",
      "execution_count": null,
      "id": "9de8405a",
      "metadata": {
        "id": "9de8405a",
        "outputId": "9300a44f-6061-4882-b193-8aaf56d7d018"
      },
      "outputs": [
        {
          "name": "stdout",
          "output_type": "stream",
          "text": [
            "4\n",
            "Not Weird\n"
          ]
        }
      ],
      "source": [
        "#!/bin/python3\n",
        "\n",
        "import math\n",
        "import os\n",
        "import random\n",
        "import re\n",
        "import sys\n",
        "\n",
        "\n",
        "\n",
        "if __name__ == '__main__':\n",
        "    n = int(input().strip())\n",
        "\n",
        "    if n%2 != 0:\n",
        "        print('Weird')\n",
        "    else:\n",
        "        if 2<=n<=5:\n",
        "            print('Not Weird')\n",
        "        elif 6<=n<=20:\n",
        "            print('Weird')\n",
        "        else:\n",
        "            print('Not Weird')"
      ]
    },
    {
      "cell_type": "code",
      "execution_count": null,
      "id": "5282cc37",
      "metadata": {
        "id": "5282cc37",
        "outputId": "a68f69e6-d3fb-4c5f-89ad-a15e7f379c0b"
      },
      "outputs": [
        {
          "name": "stdout",
          "output_type": "stream",
          "text": [
            "3\n",
            "4\n",
            "7\n",
            "-1\n",
            "12\n"
          ]
        }
      ],
      "source": [
        "if __name__ == '__main__':\n",
        "    a = int(input())\n",
        "    b = int(input())\n",
        "    \n",
        "    print(a+b)\n",
        "    print(a-b)\n",
        "    print(a*b)"
      ]
    },
    {
      "cell_type": "code",
      "execution_count": null,
      "id": "02fd13ae",
      "metadata": {
        "id": "02fd13ae",
        "outputId": "7f11909a-72e6-4412-f92a-9f84e2751994"
      },
      "outputs": [
        {
          "name": "stdout",
          "output_type": "stream",
          "text": [
            "3\n",
            "4\n",
            "0\n",
            "0.75\n"
          ]
        }
      ],
      "source": [
        "if __name__ == '__main__':\n",
        "    a = int(input())\n",
        "    b = int(input())\n",
        "    \n",
        "    print(a//b)\n",
        "    print(a/b)"
      ]
    },
    {
      "cell_type": "code",
      "execution_count": null,
      "id": "c5e0945f",
      "metadata": {
        "id": "c5e0945f",
        "outputId": "1e8b456b-ead7-4d31-b808-d3a193033d61"
      },
      "outputs": [
        {
          "name": "stdout",
          "output_type": "stream",
          "text": [
            "3\n",
            "0\n",
            "1\n",
            "4\n"
          ]
        }
      ],
      "source": [
        "if __name__ == '__main__':\n",
        "    n = int(input())\n",
        "    \n",
        "    for i in range(n):\n",
        "        print(i**2)"
      ]
    },
    {
      "cell_type": "code",
      "execution_count": null,
      "id": "7d51fd83",
      "metadata": {
        "id": "7d51fd83",
        "outputId": "f945344b-709a-4f68-b032-d05c9e3542c0"
      },
      "outputs": [
        {
          "name": "stdout",
          "output_type": "stream",
          "text": [
            "2023\n",
            "False\n"
          ]
        }
      ],
      "source": [
        "def is_leap(year):\n",
        "    leap = False\n",
        "    \n",
        "    # Write your logic here\n",
        "    if year%4==0:\n",
        "        leap=True\n",
        "        if year%100==0:\n",
        "            leap=False\n",
        "            if year%400==0:\n",
        "                leap=True\n",
        "            else:\n",
        "                leap=False\n",
        "        \n",
        "    \n",
        "    return leap\n",
        "\n",
        "year = int(input())\n",
        "print(is_leap(year))"
      ]
    },
    {
      "cell_type": "code",
      "execution_count": null,
      "id": "9a1d66c8",
      "metadata": {
        "id": "9a1d66c8",
        "outputId": "f56fa685-ce97-417b-e0ad-933b0a686faa"
      },
      "outputs": [
        {
          "name": "stdout",
          "output_type": "stream",
          "text": [
            "5\n",
            "12345"
          ]
        }
      ],
      "source": [
        "if __name__ == '__main__':\n",
        "    n = int(input())\n",
        "    \n",
        "    for i in range(n):\n",
        "        print(str(i+1), end=\"\")"
      ]
    }
  ],
  "metadata": {
    "kernelspec": {
      "display_name": "Python 3 (ipykernel)",
      "language": "python",
      "name": "python3"
    },
    "language_info": {
      "codemirror_mode": {
        "name": "ipython",
        "version": 3
      },
      "file_extension": ".py",
      "mimetype": "text/x-python",
      "name": "python",
      "nbconvert_exporter": "python",
      "pygments_lexer": "ipython3",
      "version": "3.9.13"
    },
    "colab": {
      "provenance": []
    }
  },
  "nbformat": 4,
  "nbformat_minor": 5
}