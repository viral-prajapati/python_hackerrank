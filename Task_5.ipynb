{
  "nbformat": 4,
  "nbformat_minor": 0,
  "metadata": {
    "colab": {
      "provenance": []
    },
    "kernelspec": {
      "name": "python3",
      "display_name": "Python 3"
    },
    "language_info": {
      "name": "python"
    }
  },
  "cells": [
    {
      "cell_type": "code",
      "execution_count": null,
      "metadata": {
        "id": "d1sDTU_jRj3M"
      },
      "outputs": [],
      "source": [
        "# detect floating point number\n",
        "\n",
        "# Enter your code here. Read input from STDIN. Print output to STDOUT\n",
        "l = []\n",
        "integer = int(input())\n",
        "\n",
        "for i in range(integer):\n",
        "    n = input()\n",
        "    try:\n",
        "        num = float(n)\n",
        "        if num != 0:\n",
        "            l.append(True)\n",
        "        else:\n",
        "            l.append(False)\n",
        "    except ValueError:\n",
        "        l.append(False)\n",
        "\n",
        "print('\\n'.join(map(str, l)))"
      ]
    },
    {
      "cell_type": "code",
      "source": [
        "# re.split()\n",
        "\n",
        "regex_pattern = r\"[,.]\"\t# Do not delete 'r'.\n",
        "\n",
        "import re\n",
        "print(\"\\n\".join(re.split(regex_pattern, input())))"
      ],
      "metadata": {
        "id": "NgnioAtMhSCQ"
      },
      "execution_count": null,
      "outputs": []
    },
    {
      "cell_type": "code",
      "source": [
        "# group(), groups() & groupdict()\n",
        "\n",
        "# Enter your code here. Read input from STDIN. Print output to STDOUT\n",
        "\n",
        "import re\n",
        "m = re.search(r\"([a-z0-9])\\1{1,}\", input())\n",
        "if m:\n",
        "    print(m.group(1))\n",
        "else:\n",
        "    print(-1)"
      ],
      "metadata": {
        "id": "GhqSr3RkhtDR"
      },
      "execution_count": null,
      "outputs": []
    },
    {
      "cell_type": "code",
      "source": [
        "# re.findall() & re.finditer()\n",
        "\n",
        "# Enter your code here. Read input from STDIN. Print output to STDOUT\n",
        "\n",
        "import re\n",
        "\n",
        "pattern = re.compile(r'[aeiouAEIOU^]?[aeiouAEIOU]{2,}[^aeiouAEIOU$]')\n",
        "text = input()\n",
        "\n",
        "matches = pattern.findall(text)\n",
        "\n",
        "if matches:\n",
        "    for match in matches:\n",
        "        print(match[:-1])\n",
        "else:\n",
        "    print(-1)"
      ],
      "metadata": {
        "id": "CaT9JUPKjPWK"
      },
      "execution_count": null,
      "outputs": []
    },
    {
      "cell_type": "code",
      "source": [
        "# re.start() and re.end()\n",
        "\n",
        "# Enter your code here. Read input from STDIN. Print output to STDOUT\n",
        "\n",
        "s = input()\n",
        "s2 = input()\n",
        "\n",
        "match_found = False\n",
        "\n",
        "for i in range(len(s) - len(s2) + 1):\n",
        "    fins = s[i:i+len(s2)]\n",
        "    if fins == s2:\n",
        "        start_index = i\n",
        "        end_index = i + len(s2) - 1\n",
        "        print((start_index, end_index))\n",
        "        match_found = True\n",
        "\n",
        "if not match_found:\n",
        "    print((-1, -1))"
      ],
      "metadata": {
        "id": "wF5FJxlCj3wP"
      },
      "execution_count": null,
      "outputs": []
    },
    {
      "cell_type": "code",
      "source": [
        "# regex substitution\n",
        "\n",
        "# Enter your code here. Read input from STDIN. Print output to STDOUT\n",
        "\n",
        "import re\n",
        "\n",
        "def func(match):\n",
        "    if match.group(0) == '&&':\n",
        "        return \"and\"\n",
        "    elif match.group(0) == '||':\n",
        "        return \"or\"\n",
        "\n",
        "lines = int(input().rstrip())\n",
        "\n",
        "for _ in range(lines):\n",
        "    s = input()\n",
        "    print(re.sub(r'(?<=\\s)(&&|\\|\\|)(?=\\s)', func, s))"
      ],
      "metadata": {
        "id": "8r9W-nvwmDD_"
      },
      "execution_count": null,
      "outputs": []
    },
    {
      "cell_type": "code",
      "source": [
        "# validating roman numerals\n",
        "\n",
        "regex_pattern = r\"^M{0,3}(CM|CD|D?C{0,3})(XC|XL|L?X{0,3})(IX|IV|V?I{0,3})$\"\t# Do not delete 'r'.\n",
        "\n",
        "import re\n",
        "print(str(bool(re.match(regex_pattern, input()))))"
      ],
      "metadata": {
        "id": "yjSqWV85s8UO"
      },
      "execution_count": null,
      "outputs": []
    },
    {
      "cell_type": "code",
      "source": [
        "# validating phone numbers\n",
        "\n",
        "# Enter your code here. Read input from STDIN. Print output to STDOUT\n",
        "\n",
        "import re\n",
        "\n",
        "num_count = int(input())\n",
        "mobile_numbers = [input() for _ in range(num_count)]\n",
        "\n",
        "for num in mobile_numbers:\n",
        "    if re.match(r'[789]\\d{9}$', num):\n",
        "        print(\"YES\")\n",
        "    else:\n",
        "        print(\"NO\")"
      ],
      "metadata": {
        "id": "oYxW7KB0t5kS"
      },
      "execution_count": null,
      "outputs": []
    },
    {
      "cell_type": "code",
      "source": [
        "# validating and parsing email address\n",
        "\n",
        "import re\n",
        "\n",
        "for _ in range(int(input())):\n",
        "    \n",
        "    name, email = input().split()\n",
        "    \n",
        "    if bool(re.search(r\"^[a-zA-Z][a-zA-Z-._0-9]*@[a-zA-Z]+\\.[a-zA-Z]{1,3}$\",email[1:len(email)-1])):\n",
        "        print(f\"{name} {email}\") "
      ],
      "metadata": {
        "id": "5LqhjEHDu0yk"
      },
      "execution_count": null,
      "outputs": []
    },
    {
      "cell_type": "code",
      "source": [
        "# hex color\n",
        "\n",
        "# Enter your code here. Read input from STDIN. Print output to STDOUT\n",
        "import re\n",
        "\n",
        "pattern = re.compile(r'#([0-9a-fA-F]{1,2}){3}')\n",
        "\n",
        "res = [m.group(0) for _ in range(int(input())) for s in [input()] if s.endswith(';') for m in re.finditer(pattern, s)]\n",
        "\n",
        "print(*res, sep='\\n')"
      ],
      "metadata": {
        "id": "SGEOPVpExSSZ"
      },
      "execution_count": null,
      "outputs": []
    },
    {
      "cell_type": "code",
      "source": [
        "# html parser part 1\n",
        "\n",
        "# Enter your code here. Read input from STDIN. Print output to STDOUT\n",
        "from html.parser import HTMLParser\n",
        "\n",
        "class HtmlParser(HTMLParser):\n",
        "    def print(self, action, tag, attrs=()):\n",
        "        print(f\"{action:5} : {tag}\")\n",
        "        for name, value in attrs:\n",
        "            print(f\"-> {name} > {value}\")\n",
        "        \n",
        "    def handle_starttag(self, tag, attrs):\n",
        "        self.print(\"Start\", tag, attrs)\n",
        "\n",
        "    def handle_endtag(self, tag):\n",
        "        self.print(\"End\", tag)\n",
        "\n",
        "    def handle_startendtag(self, tag, attrs):\n",
        "        self.print(\"Empty\", tag, attrs)\n",
        "\n",
        "parser = HtmlParser()\n",
        "for _ in range(int(input())):\n",
        "    parser.feed(input())"
      ],
      "metadata": {
        "id": "La07Lb6MxqA0"
      },
      "execution_count": null,
      "outputs": []
    },
    {
      "cell_type": "code",
      "source": [
        "# html parser part 2\n",
        "\n",
        "from html.parser import HTMLParser\n",
        "\n",
        "class MyHTMLParser(HTMLParser):\n",
        "    def handle_comment(self, data):\n",
        "        lines = data.split('\\n')\n",
        "        comment_type = \"Single-line Comment\" if len(lines) == 1 else \"Multi-line Comment\"\n",
        "        print(f\">>> {comment_type}\\n{data}\")\n",
        "        \n",
        "    def handle_data(self, data):\n",
        "        if data.strip():\n",
        "            lines = data.split('\\n')\n",
        "            print(f\">>> Data\\n{data}\")  \n",
        "  \n",
        "html = \"\"       \n",
        "for i in range(int(input())):\n",
        "    html += input().rstrip()\n",
        "    html += '\\n'\n",
        "    \n",
        "parser = MyHTMLParser()\n",
        "parser.feed(html)\n",
        "parser.close()"
      ],
      "metadata": {
        "id": "B4rLENX-yjBr"
      },
      "execution_count": null,
      "outputs": []
    },
    {
      "cell_type": "code",
      "source": [
        "# detect html tag, attributes, and values\n",
        "\n",
        "# Enter your code here. Read input from STDIN. Print output to STDOUT\n",
        "from html.parser import HTMLParser\n",
        "\n",
        "class HtmlParser(HTMLParser):\n",
        "    def handle_starttag(self, t, a):\n",
        "        print(t)\n",
        "        if (len(a) > 0):\n",
        "            for attr in a:\n",
        "                print('->', attr[0], '>', attr[1])\n",
        "\n",
        "p = HtmlParser()\n",
        "n=int(input())\n",
        "for _ in range(n):\n",
        "    p.feed(input())"
      ],
      "metadata": {
        "id": "EN3pEDIbzK4N"
      },
      "execution_count": null,
      "outputs": []
    },
    {
      "cell_type": "code",
      "source": [
        "# valid UID\n",
        "\n",
        "# Enter your code here. Read input from STDIN. Print output to STDOUT\n",
        "\n",
        "import re\n",
        "for _ in range(int(input())):\n",
        "    n = input()\n",
        "    \n",
        "    match = bool(re.match(r\"^[a-zA-Z0-9]{10}$\", n)) and not bool(re.findall(r'(.)(?=.*\\1)', n)) and bool(re.search(r'\\d.*\\d.*\\d', n)) and bool(re.search(r'[A-Z].*[A-Z]', n))\n",
        "    \n",
        "    if match:\n",
        "        print('Valid')\n",
        "    else:\n",
        "        print('Invalid')"
      ],
      "metadata": {
        "id": "_Tlc1Q8F0l8g"
      },
      "execution_count": null,
      "outputs": []
    },
    {
      "cell_type": "code",
      "source": [
        "# validating credit card numbers\n",
        "\n",
        "# Enter your code here. Read input from STDIN. Print output to STDOUT\n",
        "\n",
        "import re\n",
        "\n",
        "def is_valid_credit_card_number(number: str) -> bool:\n",
        "    pattern = re.compile(r'^'\n",
        "                         r'(?!.*(\\d)(-?\\1){3})'\n",
        "                         r'[456]\\d{3}'\n",
        "                         r'(?:-?\\d{4}){3}'\n",
        "                         r'$')\n",
        "    return bool(pattern.search(number))\n",
        "\n",
        "num_tests = int(input().strip())\n",
        "for _ in range(num_tests):\n",
        "    number = input().strip()\n",
        "    if is_valid_credit_card_number(number):\n",
        "        print(\"Valid\")\n",
        "    else:\n",
        "        print(\"Invalid\")"
      ],
      "metadata": {
        "id": "3NK1xnxyN7cJ"
      },
      "execution_count": null,
      "outputs": []
    },
    {
      "cell_type": "code",
      "source": [
        "# validating postal codes\n",
        "\n",
        "regex_integer_in_range = r\"^[1-9][0-9]{5}$\"\t# Do not delete 'r'.\n",
        "regex_alternating_repetitive_digit_pair = r\"(\\d)(?=\\d\\1)\"\t# Do not delete 'r'.\n",
        "\n",
        "\n",
        "import re\n",
        "P = input()\n",
        "\n",
        "print (bool(re.match(regex_integer_in_range, P)) \n",
        "and len(re.findall(regex_alternating_repetitive_digit_pair, P)) < 2)"
      ],
      "metadata": {
        "id": "IlnyqqMCOdmb"
      },
      "execution_count": null,
      "outputs": []
    },
    {
      "cell_type": "code",
      "source": [
        "# matrix script\n",
        "\n",
        "#!/bin/python3\n",
        "\n",
        "import math\n",
        "import os\n",
        "import random\n",
        "import re\n",
        "import sys\n",
        "\n",
        "\n",
        "\n",
        "\n",
        "first_multiple_input = input().rstrip().split()\n",
        "\n",
        "n = int(first_multiple_input[0])\n",
        "\n",
        "m = int(first_multiple_input[1])\n",
        "\n",
        "matrix = []\n",
        "\n",
        "for _ in range(n):\n",
        "    matrix_item = input()\n",
        "    matrix.append(matrix_item)\n",
        "    \n",
        "strg = ''\n",
        "    \n",
        "for i in range(m):\n",
        "    for j in range(n):\n",
        "        strg+=matrix[j][i]\n",
        "\n",
        "output = re.sub(\"(?<=[a-zA-Z0-9])[!@#$%&\\s]+(?=[a-zA-Z0-9])\",' ',strg)\n",
        "\n",
        "print(output)"
      ],
      "metadata": {
        "id": "kzIgcxkTPIgK"
      },
      "execution_count": null,
      "outputs": []
    }
  ]
}