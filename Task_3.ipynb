{
  "nbformat": 4,
  "nbformat_minor": 0,
  "metadata": {
    "colab": {
      "provenance": []
    },
    "kernelspec": {
      "name": "python3",
      "display_name": "Python 3"
    },
    "language_info": {
      "name": "python"
    }
  },
  "cells": [
    {
      "cell_type": "code",
      "execution_count": null,
      "metadata": {
        "id": "CcbNkSRijNjP"
      },
      "outputs": [],
      "source": [
        "# polar cordinates\n",
        "\n",
        "# Enter your code here. Read input from STDIN. Print output to STDOUT\n",
        "\n",
        "import cmath\n",
        "\n",
        "n = input()\n",
        "\n",
        "print(abs(complex(n)))\n",
        "\n",
        "print(cmath.phase(complex(n)))"
      ]
    },
    {
      "cell_type": "code",
      "source": [
        "# find angles\n",
        "\n",
        "# Enter your code here. Read input from STDIN. Print output to STDOUT\n",
        "\n",
        "import math\n",
        "\n",
        "ab = int(input())\n",
        "bc = int(input())\n",
        "\n",
        "rad = math.atan(ab/bc)\n",
        "degree = int(round(math.degrees(rad)))\n",
        "print(str(degree)+'\\N{DEGREE SIGN}')"
      ],
      "metadata": {
        "id": "7dWjEGVVkkaI"
      },
      "execution_count": null,
      "outputs": []
    },
    {
      "cell_type": "code",
      "source": [
        "# triangle quest 2\n",
        "for i in range(1,int(input())+1): #More than 2 lines will result in 0 score. Do not leave a blank line also\n",
        "    print(sum(map(lambda x:10**x, range(i)))**2)\n"
      ],
      "metadata": {
        "id": "pgJ1A9A9pjiN"
      },
      "execution_count": null,
      "outputs": []
    },
    {
      "cell_type": "code",
      "source": [
        "# mod divmod\n",
        "\n",
        "# Enter your code here. Read input from STDIN. Print output to STDOUT\n",
        "a = int(input())\n",
        "b = int(input())\n",
        "\n",
        "print(a//b)\n",
        "print(a%b)\n",
        "print(divmod(a, b))"
      ],
      "metadata": {
        "id": "IA1MJvFItir_"
      },
      "execution_count": null,
      "outputs": []
    },
    {
      "cell_type": "code",
      "source": [
        "# power - mob power\n",
        "\n",
        "# Enter your code here. Read input from STDIN. Print output to STDOUT\n",
        "\n",
        "a = int(input())\n",
        "b = int(input())\n",
        "m = int(input())\n",
        "\n",
        "print(pow(a,b))\n",
        "print(pow(a,b,m))"
      ],
      "metadata": {
        "id": "U6ZRWw6NuUWz"
      },
      "execution_count": null,
      "outputs": []
    },
    {
      "cell_type": "code",
      "source": [
        "# integers come in all sizes\n",
        "\n",
        "# Enter your code here. Read input from STDIN. Print output to STDOUT\n",
        "\n",
        "a = int(input())\n",
        "b = int(input())\n",
        "c = int(input())\n",
        "d = int(input())\n",
        "\n",
        "print(a**b+c**d)"
      ],
      "metadata": {
        "id": "vp68FCLEvADE"
      },
      "execution_count": null,
      "outputs": []
    },
    {
      "cell_type": "code",
      "source": [
        "# triangle quest\n",
        "\n",
        "for i in range(1,int(input())): #More than 2 lines will result in 0 score. Do not leave a blank line also\n",
        "    # print(str(i)*i)\n",
        "    print((10**i)//9*i)"
      ],
      "metadata": {
        "id": "OhcZQvkLv5SZ"
      },
      "execution_count": null,
      "outputs": []
    }
  ]
}